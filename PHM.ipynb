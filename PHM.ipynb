{
 "cells": [
  {
   "cell_type": "markdown",
   "metadata": {},
   "source": [
    "# Time-Series Prediction\n",
    "\n"
   ]
  },
  {
   "cell_type": "markdown",
   "metadata": {},
   "source": [
    "https://www.phmsociety.org/sites/phmsociety.org/files/PHM%20Data%20Challenge%202018%20vFinal%20v2_0.pdf\n",
    "\\\n",
    "https://www.phmsociety.org/events/conference/phm/18/data-challenge"
   ]
  },
  {
   "cell_type": "code",
   "execution_count": 2,
   "metadata": {},
   "outputs": [],
   "source": [
    "%matplotlib inline\n",
    "import matplotlib.pyplot as plt\n",
    "import tensorflow as tf\n",
    "import numpy as np\n",
    "import pandas as pd\n",
    "import os\n",
    "import sys\n",
    "from sklearn.preprocessing import MinMaxScaler"
   ]
  },
  {
   "cell_type": "code",
   "execution_count": 3,
   "metadata": {},
   "outputs": [],
   "source": [
    "from tensorflow.python.keras.models import Sequential\n",
    "from tensorflow.python.keras.layers import Input, Dense, GRU, Embedding\n",
    "from tensorflow.python.keras.optimizers import RMSprop\n",
    "from tensorflow.python.keras.callbacks import EarlyStopping, ModelCheckpoint, TensorBoard, ReduceLROnPlateau"
   ]
  },
  {
   "cell_type": "code",
   "execution_count": 4,
   "metadata": {},
   "outputs": [
    {
     "data": {
      "text/plain": [
       "'3.7.4 (tags/v3.7.4:e09359112e, Jul  8 2019, 20:34:20) [MSC v.1916 64 bit (AMD64)]'"
      ]
     },
     "execution_count": 4,
     "metadata": {},
     "output_type": "execute_result"
    }
   ],
   "source": [
    "sys.version"
   ]
  },
  {
   "cell_type": "code",
   "execution_count": 5,
   "metadata": {},
   "outputs": [
    {
     "data": {
      "text/plain": [
       "'1.14.0'"
      ]
     },
     "execution_count": 5,
     "metadata": {},
     "output_type": "execute_result"
    }
   ],
   "source": [
    "tf.__version__"
   ]
  },
  {
   "cell_type": "code",
   "execution_count": 6,
   "metadata": {
    "scrolled": true
   },
   "outputs": [
    {
     "data": {
      "text/plain": [
       "'2.2.4-tf'"
      ]
     },
     "execution_count": 6,
     "metadata": {},
     "output_type": "execute_result"
    }
   ],
   "source": [
    "tf.keras.__version__"
   ]
  },
  {
   "cell_type": "code",
   "execution_count": 7,
   "metadata": {},
   "outputs": [
    {
     "data": {
      "text/plain": [
       "'0.25.3'"
      ]
     },
     "execution_count": 7,
     "metadata": {},
     "output_type": "execute_result"
    }
   ],
   "source": [
    "pd.__version__"
   ]
  },
  {
   "cell_type": "markdown",
   "metadata": {},
   "source": [
    "***"
   ]
  },
  {
   "cell_type": "code",
   "execution_count": 8,
   "metadata": {},
   "outputs": [],
   "source": [
    "data_dir = r\"D:\\data\\phm_data_challenge_2018\\train\""
   ]
  },
  {
   "cell_type": "code",
   "execution_count": 9,
   "metadata": {},
   "outputs": [],
   "source": [
    "from glob import glob\n",
    "\n",
    "train_files = glob(os.path.join(data_dir, \"\")+\"*.csv\")\n",
    "train_ttf_files = glob(os.path.join(data_dir, \"train_ttf\")+\"/*.csv\")\n",
    "train_fault_files = glob(os.path.join(data_dir, \"train_faults\")+\"/*.csv\")"
   ]
  },
  {
   "cell_type": "code",
   "execution_count": 10,
   "metadata": {},
   "outputs": [
    {
     "name": "stdout",
     "output_type": "stream",
     "text": [
      "Wall time: 22.7 s\n"
     ]
    }
   ],
   "source": [
    "%%time\n",
    "train = pd.read_csv(train_files[5])\n",
    "train_faults = pd.read_csv(train_fault_files[5])\n",
    "train_ttf = pd.read_csv(train_ttf_files[5])"
   ]
  },
  {
   "cell_type": "code",
   "execution_count": 11,
   "metadata": {},
   "outputs": [
    {
     "data": {
      "text/html": [
       "<div>\n",
       "<style scoped>\n",
       "    .dataframe tbody tr th:only-of-type {\n",
       "        vertical-align: middle;\n",
       "    }\n",
       "\n",
       "    .dataframe tbody tr th {\n",
       "        vertical-align: top;\n",
       "    }\n",
       "\n",
       "    .dataframe thead th {\n",
       "        text-align: right;\n",
       "    }\n",
       "</style>\n",
       "<table border=\"1\" class=\"dataframe\">\n",
       "  <thead>\n",
       "    <tr style=\"text-align: right;\">\n",
       "      <th></th>\n",
       "      <th>time</th>\n",
       "      <th>Tool</th>\n",
       "      <th>stage</th>\n",
       "      <th>Lot</th>\n",
       "      <th>runnum</th>\n",
       "      <th>recipe</th>\n",
       "      <th>recipe_step</th>\n",
       "      <th>IONGAUGEPRESSURE</th>\n",
       "      <th>ETCHBEAMVOLTAGE</th>\n",
       "      <th>ETCHBEAMCURRENT</th>\n",
       "      <th>...</th>\n",
       "      <th>ETCHGASCHANNEL1READBACK</th>\n",
       "      <th>ETCHPBNGASREADBACK</th>\n",
       "      <th>FIXTURETILTANGLE</th>\n",
       "      <th>ROTATIONSPEED</th>\n",
       "      <th>ACTUALROTATIONANGLE</th>\n",
       "      <th>FIXTURESHUTTERPOSITION</th>\n",
       "      <th>ETCHSOURCEUSAGE</th>\n",
       "      <th>ETCHAUXSOURCETIMER</th>\n",
       "      <th>ETCHAUX2SOURCETIMER</th>\n",
       "      <th>ACTUALSTEPDURATION</th>\n",
       "    </tr>\n",
       "  </thead>\n",
       "  <tbody>\n",
       "    <tr>\n",
       "      <th>0</th>\n",
       "      <td>3284714</td>\n",
       "      <td>03M02</td>\n",
       "      <td>1</td>\n",
       "      <td>640</td>\n",
       "      <td>10511726</td>\n",
       "      <td>249</td>\n",
       "      <td>1</td>\n",
       "      <td>-1.547961</td>\n",
       "      <td>-1.222222</td>\n",
       "      <td>-1.272007</td>\n",
       "      <td>...</td>\n",
       "      <td>-1.575525</td>\n",
       "      <td>-1.601477</td>\n",
       "      <td>1.363214</td>\n",
       "      <td>-0.00277</td>\n",
       "      <td>-0.178652</td>\n",
       "      <td>0</td>\n",
       "      <td>0.471536</td>\n",
       "      <td>-0.811703</td>\n",
       "      <td>-0.217482</td>\n",
       "      <td>1.772975</td>\n",
       "    </tr>\n",
       "    <tr>\n",
       "      <th>1</th>\n",
       "      <td>3284720</td>\n",
       "      <td>03M02</td>\n",
       "      <td>1</td>\n",
       "      <td>640</td>\n",
       "      <td>10511726</td>\n",
       "      <td>249</td>\n",
       "      <td>1</td>\n",
       "      <td>-1.547446</td>\n",
       "      <td>-1.221113</td>\n",
       "      <td>-1.272404</td>\n",
       "      <td>...</td>\n",
       "      <td>-1.575525</td>\n",
       "      <td>-1.601477</td>\n",
       "      <td>1.363214</td>\n",
       "      <td>-0.00277</td>\n",
       "      <td>-0.178652</td>\n",
       "      <td>0</td>\n",
       "      <td>0.471536</td>\n",
       "      <td>-0.811703</td>\n",
       "      <td>-0.217482</td>\n",
       "      <td>1.772975</td>\n",
       "    </tr>\n",
       "    <tr>\n",
       "      <th>2</th>\n",
       "      <td>3284722</td>\n",
       "      <td>03M02</td>\n",
       "      <td>1</td>\n",
       "      <td>640</td>\n",
       "      <td>10511726</td>\n",
       "      <td>249</td>\n",
       "      <td>1</td>\n",
       "      <td>-1.546922</td>\n",
       "      <td>-1.221020</td>\n",
       "      <td>-1.272007</td>\n",
       "      <td>...</td>\n",
       "      <td>-1.575525</td>\n",
       "      <td>-1.601477</td>\n",
       "      <td>1.363214</td>\n",
       "      <td>-0.00277</td>\n",
       "      <td>-0.178652</td>\n",
       "      <td>0</td>\n",
       "      <td>0.471536</td>\n",
       "      <td>-0.811703</td>\n",
       "      <td>-0.217482</td>\n",
       "      <td>1.772975</td>\n",
       "    </tr>\n",
       "    <tr>\n",
       "      <th>3</th>\n",
       "      <td>3284726</td>\n",
       "      <td>03M02</td>\n",
       "      <td>1</td>\n",
       "      <td>640</td>\n",
       "      <td>10511726</td>\n",
       "      <td>249</td>\n",
       "      <td>1</td>\n",
       "      <td>-1.547770</td>\n",
       "      <td>-1.221205</td>\n",
       "      <td>-1.271928</td>\n",
       "      <td>...</td>\n",
       "      <td>-1.575525</td>\n",
       "      <td>-1.601477</td>\n",
       "      <td>1.363214</td>\n",
       "      <td>-0.00277</td>\n",
       "      <td>-0.178652</td>\n",
       "      <td>0</td>\n",
       "      <td>0.471536</td>\n",
       "      <td>-0.811703</td>\n",
       "      <td>-0.217482</td>\n",
       "      <td>1.772975</td>\n",
       "    </tr>\n",
       "    <tr>\n",
       "      <th>4</th>\n",
       "      <td>3284730</td>\n",
       "      <td>03M02</td>\n",
       "      <td>1</td>\n",
       "      <td>640</td>\n",
       "      <td>10511726</td>\n",
       "      <td>249</td>\n",
       "      <td>1</td>\n",
       "      <td>-1.548045</td>\n",
       "      <td>-1.222407</td>\n",
       "      <td>-1.271769</td>\n",
       "      <td>...</td>\n",
       "      <td>-1.575525</td>\n",
       "      <td>-1.601477</td>\n",
       "      <td>1.363214</td>\n",
       "      <td>-0.00277</td>\n",
       "      <td>-0.178652</td>\n",
       "      <td>0</td>\n",
       "      <td>0.471536</td>\n",
       "      <td>-0.811703</td>\n",
       "      <td>-0.217482</td>\n",
       "      <td>1.772975</td>\n",
       "    </tr>\n",
       "  </tbody>\n",
       "</table>\n",
       "<p>5 rows × 24 columns</p>\n",
       "</div>"
      ],
      "text/plain": [
       "      time   Tool  stage  Lot    runnum  recipe  recipe_step  \\\n",
       "0  3284714  03M02      1  640  10511726     249            1   \n",
       "1  3284720  03M02      1  640  10511726     249            1   \n",
       "2  3284722  03M02      1  640  10511726     249            1   \n",
       "3  3284726  03M02      1  640  10511726     249            1   \n",
       "4  3284730  03M02      1  640  10511726     249            1   \n",
       "\n",
       "   IONGAUGEPRESSURE  ETCHBEAMVOLTAGE  ETCHBEAMCURRENT  ...  \\\n",
       "0         -1.547961        -1.222222        -1.272007  ...   \n",
       "1         -1.547446        -1.221113        -1.272404  ...   \n",
       "2         -1.546922        -1.221020        -1.272007  ...   \n",
       "3         -1.547770        -1.221205        -1.271928  ...   \n",
       "4         -1.548045        -1.222407        -1.271769  ...   \n",
       "\n",
       "   ETCHGASCHANNEL1READBACK  ETCHPBNGASREADBACK  FIXTURETILTANGLE  \\\n",
       "0                -1.575525           -1.601477          1.363214   \n",
       "1                -1.575525           -1.601477          1.363214   \n",
       "2                -1.575525           -1.601477          1.363214   \n",
       "3                -1.575525           -1.601477          1.363214   \n",
       "4                -1.575525           -1.601477          1.363214   \n",
       "\n",
       "   ROTATIONSPEED  ACTUALROTATIONANGLE  FIXTURESHUTTERPOSITION  \\\n",
       "0       -0.00277            -0.178652                       0   \n",
       "1       -0.00277            -0.178652                       0   \n",
       "2       -0.00277            -0.178652                       0   \n",
       "3       -0.00277            -0.178652                       0   \n",
       "4       -0.00277            -0.178652                       0   \n",
       "\n",
       "   ETCHSOURCEUSAGE  ETCHAUXSOURCETIMER  ETCHAUX2SOURCETIMER  \\\n",
       "0         0.471536           -0.811703            -0.217482   \n",
       "1         0.471536           -0.811703            -0.217482   \n",
       "2         0.471536           -0.811703            -0.217482   \n",
       "3         0.471536           -0.811703            -0.217482   \n",
       "4         0.471536           -0.811703            -0.217482   \n",
       "\n",
       "   ACTUALSTEPDURATION  \n",
       "0            1.772975  \n",
       "1            1.772975  \n",
       "2            1.772975  \n",
       "3            1.772975  \n",
       "4            1.772975  \n",
       "\n",
       "[5 rows x 24 columns]"
      ]
     },
     "execution_count": 11,
     "metadata": {},
     "output_type": "execute_result"
    }
   ],
   "source": [
    "train.head()"
   ]
  },
  {
   "cell_type": "code",
   "execution_count": 12,
   "metadata": {},
   "outputs": [
    {
     "data": {
      "text/html": [
       "<div>\n",
       "<style scoped>\n",
       "    .dataframe tbody tr th:only-of-type {\n",
       "        vertical-align: middle;\n",
       "    }\n",
       "\n",
       "    .dataframe tbody tr th {\n",
       "        vertical-align: top;\n",
       "    }\n",
       "\n",
       "    .dataframe thead th {\n",
       "        text-align: right;\n",
       "    }\n",
       "</style>\n",
       "<table border=\"1\" class=\"dataframe\">\n",
       "  <thead>\n",
       "    <tr style=\"text-align: right;\">\n",
       "      <th></th>\n",
       "      <th>time</th>\n",
       "      <th>fault_name</th>\n",
       "      <th>Tool</th>\n",
       "    </tr>\n",
       "  </thead>\n",
       "  <tbody>\n",
       "    <tr>\n",
       "      <th>0</th>\n",
       "      <td>3326152</td>\n",
       "      <td>FlowCool Pressure Dropped Below Limit</td>\n",
       "      <td>03M02</td>\n",
       "    </tr>\n",
       "    <tr>\n",
       "      <th>1</th>\n",
       "      <td>3780688</td>\n",
       "      <td>FlowCool Pressure Dropped Below Limit</td>\n",
       "      <td>03M02</td>\n",
       "    </tr>\n",
       "    <tr>\n",
       "      <th>2</th>\n",
       "      <td>3961378</td>\n",
       "      <td>FlowCool Pressure Dropped Below Limit</td>\n",
       "      <td>03M02</td>\n",
       "    </tr>\n",
       "    <tr>\n",
       "      <th>3</th>\n",
       "      <td>4528896</td>\n",
       "      <td>FlowCool Pressure Dropped Below Limit</td>\n",
       "      <td>03M02</td>\n",
       "    </tr>\n",
       "    <tr>\n",
       "      <th>4</th>\n",
       "      <td>4528896</td>\n",
       "      <td>FlowCool Pressure Dropped Below Limit</td>\n",
       "      <td>03M02</td>\n",
       "    </tr>\n",
       "  </tbody>\n",
       "</table>\n",
       "</div>"
      ],
      "text/plain": [
       "      time                             fault_name   Tool\n",
       "0  3326152  FlowCool Pressure Dropped Below Limit  03M02\n",
       "1  3780688  FlowCool Pressure Dropped Below Limit  03M02\n",
       "2  3961378  FlowCool Pressure Dropped Below Limit  03M02\n",
       "3  4528896  FlowCool Pressure Dropped Below Limit  03M02\n",
       "4  4528896  FlowCool Pressure Dropped Below Limit  03M02"
      ]
     },
     "execution_count": 12,
     "metadata": {},
     "output_type": "execute_result"
    }
   ],
   "source": [
    "train_faults.head()"
   ]
  },
  {
   "cell_type": "code",
   "execution_count": 13,
   "metadata": {},
   "outputs": [
    {
     "data": {
      "text/plain": [
       "array(['FlowCool Pressure Dropped Below Limit',\n",
       "       'Flowcool Pressure Too High Check Flowcool Pump', 'Flowcool leak',\n",
       "       'Flowcool Pressure Too High Check Flowcool Pump [NoWaferID]'],\n",
       "      dtype=object)"
      ]
     },
     "execution_count": 13,
     "metadata": {},
     "output_type": "execute_result"
    }
   ],
   "source": [
    "(train_faults.fault_name.unique())"
   ]
  },
  {
   "cell_type": "code",
   "execution_count": 14,
   "metadata": {},
   "outputs": [
    {
     "data": {
      "text/html": [
       "<div>\n",
       "<style scoped>\n",
       "    .dataframe tbody tr th:only-of-type {\n",
       "        vertical-align: middle;\n",
       "    }\n",
       "\n",
       "    .dataframe tbody tr th {\n",
       "        vertical-align: top;\n",
       "    }\n",
       "\n",
       "    .dataframe thead th {\n",
       "        text-align: right;\n",
       "    }\n",
       "</style>\n",
       "<table border=\"1\" class=\"dataframe\">\n",
       "  <thead>\n",
       "    <tr style=\"text-align: right;\">\n",
       "      <th></th>\n",
       "      <th>time</th>\n",
       "      <th>TTF_FlowCool Pressure Dropped Below Limit</th>\n",
       "      <th>TTF_Flowcool Pressure Too High Check Flowcool Pump</th>\n",
       "      <th>TTF_Flowcool leak</th>\n",
       "    </tr>\n",
       "  </thead>\n",
       "  <tbody>\n",
       "    <tr>\n",
       "      <th>0</th>\n",
       "      <td>3284714</td>\n",
       "      <td>41438.0</td>\n",
       "      <td>1699604.0</td>\n",
       "      <td>16250708.0</td>\n",
       "    </tr>\n",
       "    <tr>\n",
       "      <th>1</th>\n",
       "      <td>3284720</td>\n",
       "      <td>41432.0</td>\n",
       "      <td>1699598.0</td>\n",
       "      <td>16250702.0</td>\n",
       "    </tr>\n",
       "    <tr>\n",
       "      <th>2</th>\n",
       "      <td>3284722</td>\n",
       "      <td>41430.0</td>\n",
       "      <td>1699596.0</td>\n",
       "      <td>16250700.0</td>\n",
       "    </tr>\n",
       "    <tr>\n",
       "      <th>3</th>\n",
       "      <td>3284726</td>\n",
       "      <td>41426.0</td>\n",
       "      <td>1699592.0</td>\n",
       "      <td>16250696.0</td>\n",
       "    </tr>\n",
       "    <tr>\n",
       "      <th>4</th>\n",
       "      <td>3284730</td>\n",
       "      <td>41422.0</td>\n",
       "      <td>1699588.0</td>\n",
       "      <td>16250692.0</td>\n",
       "    </tr>\n",
       "  </tbody>\n",
       "</table>\n",
       "</div>"
      ],
      "text/plain": [
       "      time  TTF_FlowCool Pressure Dropped Below Limit  \\\n",
       "0  3284714                                    41438.0   \n",
       "1  3284720                                    41432.0   \n",
       "2  3284722                                    41430.0   \n",
       "3  3284726                                    41426.0   \n",
       "4  3284730                                    41422.0   \n",
       "\n",
       "   TTF_Flowcool Pressure Too High Check Flowcool Pump  TTF_Flowcool leak  \n",
       "0                                          1699604.0          16250708.0  \n",
       "1                                          1699598.0          16250702.0  \n",
       "2                                          1699596.0          16250700.0  \n",
       "3                                          1699592.0          16250696.0  \n",
       "4                                          1699588.0          16250692.0  "
      ]
     },
     "execution_count": 14,
     "metadata": {},
     "output_type": "execute_result"
    }
   ],
   "source": [
    "train_ttf.head()"
   ]
  },
  {
   "cell_type": "code",
   "execution_count": 15,
   "metadata": {},
   "outputs": [
    {
     "data": {
      "text/plain": [
       "5060498"
      ]
     },
     "execution_count": 15,
     "metadata": {},
     "output_type": "execute_result"
    }
   ],
   "source": [
    "len(train)"
   ]
  },
  {
   "cell_type": "code",
   "execution_count": 16,
   "metadata": {},
   "outputs": [],
   "source": [
    "# merge train and train_time_to_fault\n",
    "\n",
    "ttf_any = list(map(min, train_ttf.iloc[:,1:].values))\n",
    "train['ttf_any'] = ttf_any"
   ]
  },
  {
   "cell_type": "code",
   "execution_count": 17,
   "metadata": {},
   "outputs": [
    {
     "data": {
      "text/html": [
       "<div>\n",
       "<style scoped>\n",
       "    .dataframe tbody tr th:only-of-type {\n",
       "        vertical-align: middle;\n",
       "    }\n",
       "\n",
       "    .dataframe tbody tr th {\n",
       "        vertical-align: top;\n",
       "    }\n",
       "\n",
       "    .dataframe thead th {\n",
       "        text-align: right;\n",
       "    }\n",
       "</style>\n",
       "<table border=\"1\" class=\"dataframe\">\n",
       "  <thead>\n",
       "    <tr style=\"text-align: right;\">\n",
       "      <th></th>\n",
       "      <th>time</th>\n",
       "      <th>Tool</th>\n",
       "      <th>stage</th>\n",
       "      <th>Lot</th>\n",
       "      <th>runnum</th>\n",
       "      <th>recipe</th>\n",
       "      <th>recipe_step</th>\n",
       "      <th>IONGAUGEPRESSURE</th>\n",
       "      <th>ETCHBEAMVOLTAGE</th>\n",
       "      <th>ETCHBEAMCURRENT</th>\n",
       "      <th>...</th>\n",
       "      <th>ETCHPBNGASREADBACK</th>\n",
       "      <th>FIXTURETILTANGLE</th>\n",
       "      <th>ROTATIONSPEED</th>\n",
       "      <th>ACTUALROTATIONANGLE</th>\n",
       "      <th>FIXTURESHUTTERPOSITION</th>\n",
       "      <th>ETCHSOURCEUSAGE</th>\n",
       "      <th>ETCHAUXSOURCETIMER</th>\n",
       "      <th>ETCHAUX2SOURCETIMER</th>\n",
       "      <th>ACTUALSTEPDURATION</th>\n",
       "      <th>ttf_any</th>\n",
       "    </tr>\n",
       "  </thead>\n",
       "  <tbody>\n",
       "    <tr>\n",
       "      <th>0</th>\n",
       "      <td>3284714</td>\n",
       "      <td>03M02</td>\n",
       "      <td>1</td>\n",
       "      <td>640</td>\n",
       "      <td>10511726</td>\n",
       "      <td>249</td>\n",
       "      <td>1</td>\n",
       "      <td>-1.547961</td>\n",
       "      <td>-1.222222</td>\n",
       "      <td>-1.272007</td>\n",
       "      <td>...</td>\n",
       "      <td>-1.601477</td>\n",
       "      <td>1.363214</td>\n",
       "      <td>-0.00277</td>\n",
       "      <td>-0.178652</td>\n",
       "      <td>0</td>\n",
       "      <td>0.471536</td>\n",
       "      <td>-0.811703</td>\n",
       "      <td>-0.217482</td>\n",
       "      <td>1.772975</td>\n",
       "      <td>41438.0</td>\n",
       "    </tr>\n",
       "    <tr>\n",
       "      <th>1</th>\n",
       "      <td>3284720</td>\n",
       "      <td>03M02</td>\n",
       "      <td>1</td>\n",
       "      <td>640</td>\n",
       "      <td>10511726</td>\n",
       "      <td>249</td>\n",
       "      <td>1</td>\n",
       "      <td>-1.547446</td>\n",
       "      <td>-1.221113</td>\n",
       "      <td>-1.272404</td>\n",
       "      <td>...</td>\n",
       "      <td>-1.601477</td>\n",
       "      <td>1.363214</td>\n",
       "      <td>-0.00277</td>\n",
       "      <td>-0.178652</td>\n",
       "      <td>0</td>\n",
       "      <td>0.471536</td>\n",
       "      <td>-0.811703</td>\n",
       "      <td>-0.217482</td>\n",
       "      <td>1.772975</td>\n",
       "      <td>41432.0</td>\n",
       "    </tr>\n",
       "    <tr>\n",
       "      <th>2</th>\n",
       "      <td>3284722</td>\n",
       "      <td>03M02</td>\n",
       "      <td>1</td>\n",
       "      <td>640</td>\n",
       "      <td>10511726</td>\n",
       "      <td>249</td>\n",
       "      <td>1</td>\n",
       "      <td>-1.546922</td>\n",
       "      <td>-1.221020</td>\n",
       "      <td>-1.272007</td>\n",
       "      <td>...</td>\n",
       "      <td>-1.601477</td>\n",
       "      <td>1.363214</td>\n",
       "      <td>-0.00277</td>\n",
       "      <td>-0.178652</td>\n",
       "      <td>0</td>\n",
       "      <td>0.471536</td>\n",
       "      <td>-0.811703</td>\n",
       "      <td>-0.217482</td>\n",
       "      <td>1.772975</td>\n",
       "      <td>41430.0</td>\n",
       "    </tr>\n",
       "    <tr>\n",
       "      <th>3</th>\n",
       "      <td>3284726</td>\n",
       "      <td>03M02</td>\n",
       "      <td>1</td>\n",
       "      <td>640</td>\n",
       "      <td>10511726</td>\n",
       "      <td>249</td>\n",
       "      <td>1</td>\n",
       "      <td>-1.547770</td>\n",
       "      <td>-1.221205</td>\n",
       "      <td>-1.271928</td>\n",
       "      <td>...</td>\n",
       "      <td>-1.601477</td>\n",
       "      <td>1.363214</td>\n",
       "      <td>-0.00277</td>\n",
       "      <td>-0.178652</td>\n",
       "      <td>0</td>\n",
       "      <td>0.471536</td>\n",
       "      <td>-0.811703</td>\n",
       "      <td>-0.217482</td>\n",
       "      <td>1.772975</td>\n",
       "      <td>41426.0</td>\n",
       "    </tr>\n",
       "    <tr>\n",
       "      <th>4</th>\n",
       "      <td>3284730</td>\n",
       "      <td>03M02</td>\n",
       "      <td>1</td>\n",
       "      <td>640</td>\n",
       "      <td>10511726</td>\n",
       "      <td>249</td>\n",
       "      <td>1</td>\n",
       "      <td>-1.548045</td>\n",
       "      <td>-1.222407</td>\n",
       "      <td>-1.271769</td>\n",
       "      <td>...</td>\n",
       "      <td>-1.601477</td>\n",
       "      <td>1.363214</td>\n",
       "      <td>-0.00277</td>\n",
       "      <td>-0.178652</td>\n",
       "      <td>0</td>\n",
       "      <td>0.471536</td>\n",
       "      <td>-0.811703</td>\n",
       "      <td>-0.217482</td>\n",
       "      <td>1.772975</td>\n",
       "      <td>41422.0</td>\n",
       "    </tr>\n",
       "  </tbody>\n",
       "</table>\n",
       "<p>5 rows × 25 columns</p>\n",
       "</div>"
      ],
      "text/plain": [
       "      time   Tool  stage  Lot    runnum  recipe  recipe_step  \\\n",
       "0  3284714  03M02      1  640  10511726     249            1   \n",
       "1  3284720  03M02      1  640  10511726     249            1   \n",
       "2  3284722  03M02      1  640  10511726     249            1   \n",
       "3  3284726  03M02      1  640  10511726     249            1   \n",
       "4  3284730  03M02      1  640  10511726     249            1   \n",
       "\n",
       "   IONGAUGEPRESSURE  ETCHBEAMVOLTAGE  ETCHBEAMCURRENT  ...  \\\n",
       "0         -1.547961        -1.222222        -1.272007  ...   \n",
       "1         -1.547446        -1.221113        -1.272404  ...   \n",
       "2         -1.546922        -1.221020        -1.272007  ...   \n",
       "3         -1.547770        -1.221205        -1.271928  ...   \n",
       "4         -1.548045        -1.222407        -1.271769  ...   \n",
       "\n",
       "   ETCHPBNGASREADBACK  FIXTURETILTANGLE  ROTATIONSPEED  ACTUALROTATIONANGLE  \\\n",
       "0           -1.601477          1.363214       -0.00277            -0.178652   \n",
       "1           -1.601477          1.363214       -0.00277            -0.178652   \n",
       "2           -1.601477          1.363214       -0.00277            -0.178652   \n",
       "3           -1.601477          1.363214       -0.00277            -0.178652   \n",
       "4           -1.601477          1.363214       -0.00277            -0.178652   \n",
       "\n",
       "   FIXTURESHUTTERPOSITION  ETCHSOURCEUSAGE  ETCHAUXSOURCETIMER  \\\n",
       "0                       0         0.471536           -0.811703   \n",
       "1                       0         0.471536           -0.811703   \n",
       "2                       0         0.471536           -0.811703   \n",
       "3                       0         0.471536           -0.811703   \n",
       "4                       0         0.471536           -0.811703   \n",
       "\n",
       "   ETCHAUX2SOURCETIMER  ACTUALSTEPDURATION  ttf_any  \n",
       "0            -0.217482            1.772975  41438.0  \n",
       "1            -0.217482            1.772975  41432.0  \n",
       "2            -0.217482            1.772975  41430.0  \n",
       "3            -0.217482            1.772975  41426.0  \n",
       "4            -0.217482            1.772975  41422.0  \n",
       "\n",
       "[5 rows x 25 columns]"
      ]
     },
     "execution_count": 17,
     "metadata": {},
     "output_type": "execute_result"
    }
   ],
   "source": [
    "train.head()"
   ]
  },
  {
   "cell_type": "code",
   "execution_count": 18,
   "metadata": {},
   "outputs": [
    {
     "data": {
      "text/plain": [
       "<matplotlib.axes._subplots.AxesSubplot at 0x2116102e488>"
      ]
     },
     "execution_count": 18,
     "metadata": {},
     "output_type": "execute_result"
    },
    {
     "data": {
      "image/png": "[encoded data removed]",
      "text/plain": [
       "<Figure size 432x288 with 1 Axes>"
      ]
     },
     "metadata": {
      "needs_background": "light"
     },
     "output_type": "display_data"
    }
   ],
   "source": [
    "train.ttf_any.plot()"
   ]
  },
  {
   "cell_type": "code",
   "execution_count": null,
   "metadata": {},
   "outputs": [],
   "source": []
  },
  {
   "cell_type": "code",
   "execution_count": 19,
   "metadata": {},
   "outputs": [
    {
     "data": {
      "text/plain": [
       "0.18909107364532107"
      ]
     },
     "execution_count": 19,
     "metadata": {},
     "output_type": "execute_result"
    }
   ],
   "source": [
    "# % of the tail time with no faults\n",
    "len(train_ttf[pd.isna(train.ttf_any)]) /len(train_ttf)"
   ]
  },
  {
   "cell_type": "code",
   "execution_count": 20,
   "metadata": {},
   "outputs": [],
   "source": [
    "# remove after the last fault nan\n",
    "train = train[~pd.isna(train.ttf_any)]"
   ]
  },
  {
   "cell_type": "code",
   "execution_count": 21,
   "metadata": {},
   "outputs": [
    {
     "data": {
      "text/plain": [
       "4103603"
      ]
     },
     "execution_count": 21,
     "metadata": {},
     "output_type": "execute_result"
    }
   ],
   "source": [
    "len(train)"
   ]
  },
  {
   "cell_type": "code",
   "execution_count": 22,
   "metadata": {},
   "outputs": [],
   "source": [
    "# dropping irrelevant columns\n",
    "drop_list=[\"Tool\", ]"
   ]
  },
  {
   "cell_type": "code",
   "execution_count": 23,
   "metadata": {},
   "outputs": [],
   "source": [
    "train = train.drop(drop_list, axis=1)"
   ]
  },
  {
   "cell_type": "code",
   "execution_count": 24,
   "metadata": {},
   "outputs": [
    {
     "data": {
      "text/plain": [
       "Index(['time', 'stage', 'Lot', 'runnum', 'recipe', 'recipe_step',\n",
       "       'IONGAUGEPRESSURE', 'ETCHBEAMVOLTAGE', 'ETCHBEAMCURRENT',\n",
       "       'ETCHSUPPRESSORVOLTAGE', 'ETCHSUPPRESSORCURRENT', 'FLOWCOOLFLOWRATE',\n",
       "       'FLOWCOOLPRESSURE', 'ETCHGASCHANNEL1READBACK', 'ETCHPBNGASREADBACK',\n",
       "       'FIXTURETILTANGLE', 'ROTATIONSPEED', 'ACTUALROTATIONANGLE',\n",
       "       'FIXTURESHUTTERPOSITION', 'ETCHSOURCEUSAGE', 'ETCHAUXSOURCETIMER',\n",
       "       'ETCHAUX2SOURCETIMER', 'ACTUALSTEPDURATION', 'ttf_any'],\n",
       "      dtype='object')"
      ]
     },
     "execution_count": 24,
     "metadata": {},
     "output_type": "execute_result"
    }
   ],
   "source": [
    "train.columns"
   ]
  },
  {
   "cell_type": "markdown",
   "metadata": {},
   "source": [
    "***"
   ]
  },
  {
   "cell_type": "markdown",
   "metadata": {},
   "source": [
    "***"
   ]
  },
  {
   "cell_type": "code",
   "execution_count": 25,
   "metadata": {},
   "outputs": [],
   "source": [
    "shift_steps = 100"
   ]
  },
  {
   "cell_type": "code",
   "execution_count": 26,
   "metadata": {},
   "outputs": [
    {
     "data": {
      "text/html": [
       "<div>\n",
       "<style scoped>\n",
       "    .dataframe tbody tr th:only-of-type {\n",
       "        vertical-align: middle;\n",
       "    }\n",
       "\n",
       "    .dataframe tbody tr th {\n",
       "        vertical-align: top;\n",
       "    }\n",
       "\n",
       "    .dataframe thead th {\n",
       "        text-align: right;\n",
       "    }\n",
       "</style>\n",
       "<table border=\"1\" class=\"dataframe\">\n",
       "  <thead>\n",
       "    <tr style=\"text-align: right;\">\n",
       "      <th></th>\n",
       "      <th>time</th>\n",
       "      <th>stage</th>\n",
       "      <th>Lot</th>\n",
       "      <th>runnum</th>\n",
       "      <th>recipe</th>\n",
       "      <th>recipe_step</th>\n",
       "      <th>IONGAUGEPRESSURE</th>\n",
       "      <th>ETCHBEAMVOLTAGE</th>\n",
       "      <th>ETCHBEAMCURRENT</th>\n",
       "      <th>ETCHSUPPRESSORVOLTAGE</th>\n",
       "      <th>...</th>\n",
       "      <th>ETCHPBNGASREADBACK</th>\n",
       "      <th>FIXTURETILTANGLE</th>\n",
       "      <th>ROTATIONSPEED</th>\n",
       "      <th>ACTUALROTATIONANGLE</th>\n",
       "      <th>FIXTURESHUTTERPOSITION</th>\n",
       "      <th>ETCHSOURCEUSAGE</th>\n",
       "      <th>ETCHAUXSOURCETIMER</th>\n",
       "      <th>ETCHAUX2SOURCETIMER</th>\n",
       "      <th>ACTUALSTEPDURATION</th>\n",
       "      <th>ttf_any</th>\n",
       "    </tr>\n",
       "  </thead>\n",
       "  <tbody>\n",
       "    <tr>\n",
       "      <th>0</th>\n",
       "      <td>3284714</td>\n",
       "      <td>1</td>\n",
       "      <td>640</td>\n",
       "      <td>10511726</td>\n",
       "      <td>249</td>\n",
       "      <td>1</td>\n",
       "      <td>-1.547961</td>\n",
       "      <td>-1.222222</td>\n",
       "      <td>-1.272007</td>\n",
       "      <td>-1.468476</td>\n",
       "      <td>...</td>\n",
       "      <td>-1.601477</td>\n",
       "      <td>1.363214</td>\n",
       "      <td>-0.00277</td>\n",
       "      <td>-0.178652</td>\n",
       "      <td>0</td>\n",
       "      <td>0.471536</td>\n",
       "      <td>-0.811703</td>\n",
       "      <td>-0.217482</td>\n",
       "      <td>1.772975</td>\n",
       "      <td>41036.0</td>\n",
       "    </tr>\n",
       "    <tr>\n",
       "      <th>1</th>\n",
       "      <td>3284720</td>\n",
       "      <td>1</td>\n",
       "      <td>640</td>\n",
       "      <td>10511726</td>\n",
       "      <td>249</td>\n",
       "      <td>1</td>\n",
       "      <td>-1.547446</td>\n",
       "      <td>-1.221113</td>\n",
       "      <td>-1.272404</td>\n",
       "      <td>-1.468567</td>\n",
       "      <td>...</td>\n",
       "      <td>-1.601477</td>\n",
       "      <td>1.363214</td>\n",
       "      <td>-0.00277</td>\n",
       "      <td>-0.178652</td>\n",
       "      <td>0</td>\n",
       "      <td>0.471536</td>\n",
       "      <td>-0.811703</td>\n",
       "      <td>-0.217482</td>\n",
       "      <td>1.772975</td>\n",
       "      <td>41034.0</td>\n",
       "    </tr>\n",
       "    <tr>\n",
       "      <th>2</th>\n",
       "      <td>3284722</td>\n",
       "      <td>1</td>\n",
       "      <td>640</td>\n",
       "      <td>10511726</td>\n",
       "      <td>249</td>\n",
       "      <td>1</td>\n",
       "      <td>-1.546922</td>\n",
       "      <td>-1.221020</td>\n",
       "      <td>-1.272007</td>\n",
       "      <td>-1.468522</td>\n",
       "      <td>...</td>\n",
       "      <td>-1.601477</td>\n",
       "      <td>1.363214</td>\n",
       "      <td>-0.00277</td>\n",
       "      <td>-0.178652</td>\n",
       "      <td>0</td>\n",
       "      <td>0.471536</td>\n",
       "      <td>-0.811703</td>\n",
       "      <td>-0.217482</td>\n",
       "      <td>1.772975</td>\n",
       "      <td>41030.0</td>\n",
       "    </tr>\n",
       "    <tr>\n",
       "      <th>3</th>\n",
       "      <td>3284726</td>\n",
       "      <td>1</td>\n",
       "      <td>640</td>\n",
       "      <td>10511726</td>\n",
       "      <td>249</td>\n",
       "      <td>1</td>\n",
       "      <td>-1.547770</td>\n",
       "      <td>-1.221205</td>\n",
       "      <td>-1.271928</td>\n",
       "      <td>-1.468567</td>\n",
       "      <td>...</td>\n",
       "      <td>-1.601477</td>\n",
       "      <td>1.363214</td>\n",
       "      <td>-0.00277</td>\n",
       "      <td>-0.178652</td>\n",
       "      <td>0</td>\n",
       "      <td>0.471536</td>\n",
       "      <td>-0.811703</td>\n",
       "      <td>-0.217482</td>\n",
       "      <td>1.772975</td>\n",
       "      <td>41026.0</td>\n",
       "    </tr>\n",
       "    <tr>\n",
       "      <th>4</th>\n",
       "      <td>3284730</td>\n",
       "      <td>1</td>\n",
       "      <td>640</td>\n",
       "      <td>10511726</td>\n",
       "      <td>249</td>\n",
       "      <td>1</td>\n",
       "      <td>-1.548045</td>\n",
       "      <td>-1.222407</td>\n",
       "      <td>-1.271769</td>\n",
       "      <td>-1.468522</td>\n",
       "      <td>...</td>\n",
       "      <td>-1.601477</td>\n",
       "      <td>1.363214</td>\n",
       "      <td>-0.00277</td>\n",
       "      <td>-0.178652</td>\n",
       "      <td>0</td>\n",
       "      <td>0.471536</td>\n",
       "      <td>-0.811703</td>\n",
       "      <td>-0.217482</td>\n",
       "      <td>1.772975</td>\n",
       "      <td>41022.0</td>\n",
       "    </tr>\n",
       "    <tr>\n",
       "      <th>...</th>\n",
       "      <td>...</td>\n",
       "      <td>...</td>\n",
       "      <td>...</td>\n",
       "      <td>...</td>\n",
       "      <td>...</td>\n",
       "      <td>...</td>\n",
       "      <td>...</td>\n",
       "      <td>...</td>\n",
       "      <td>...</td>\n",
       "      <td>...</td>\n",
       "      <td>...</td>\n",
       "      <td>...</td>\n",
       "      <td>...</td>\n",
       "      <td>...</td>\n",
       "      <td>...</td>\n",
       "      <td>...</td>\n",
       "      <td>...</td>\n",
       "      <td>...</td>\n",
       "      <td>...</td>\n",
       "      <td>...</td>\n",
       "      <td>...</td>\n",
       "    </tr>\n",
       "    <tr>\n",
       "      <th>4103598</th>\n",
       "      <td>37498076</td>\n",
       "      <td>113</td>\n",
       "      <td>483</td>\n",
       "      <td>12683151</td>\n",
       "      <td>143</td>\n",
       "      <td>5</td>\n",
       "      <td>-1.491357</td>\n",
       "      <td>-1.222037</td>\n",
       "      <td>-1.271848</td>\n",
       "      <td>-1.467752</td>\n",
       "      <td>...</td>\n",
       "      <td>-1.581964</td>\n",
       "      <td>1.363214</td>\n",
       "      <td>-0.00277</td>\n",
       "      <td>-0.178645</td>\n",
       "      <td>0</td>\n",
       "      <td>-0.423471</td>\n",
       "      <td>1.093862</td>\n",
       "      <td>-0.745341</td>\n",
       "      <td>-0.658597</td>\n",
       "      <td>NaN</td>\n",
       "    </tr>\n",
       "    <tr>\n",
       "      <th>4103599</th>\n",
       "      <td>37498080</td>\n",
       "      <td>113</td>\n",
       "      <td>483</td>\n",
       "      <td>12683151</td>\n",
       "      <td>143</td>\n",
       "      <td>5</td>\n",
       "      <td>-1.500010</td>\n",
       "      <td>-1.221760</td>\n",
       "      <td>-1.271610</td>\n",
       "      <td>-1.467842</td>\n",
       "      <td>...</td>\n",
       "      <td>-1.581964</td>\n",
       "      <td>1.363214</td>\n",
       "      <td>-0.00277</td>\n",
       "      <td>-0.178645</td>\n",
       "      <td>0</td>\n",
       "      <td>-0.423471</td>\n",
       "      <td>1.093862</td>\n",
       "      <td>-0.745341</td>\n",
       "      <td>-0.658597</td>\n",
       "      <td>NaN</td>\n",
       "    </tr>\n",
       "    <tr>\n",
       "      <th>4103600</th>\n",
       "      <td>37498084</td>\n",
       "      <td>113</td>\n",
       "      <td>483</td>\n",
       "      <td>12683151</td>\n",
       "      <td>143</td>\n",
       "      <td>5</td>\n",
       "      <td>-1.502536</td>\n",
       "      <td>-1.222222</td>\n",
       "      <td>-1.272007</td>\n",
       "      <td>-1.467933</td>\n",
       "      <td>...</td>\n",
       "      <td>-1.581964</td>\n",
       "      <td>1.363214</td>\n",
       "      <td>-0.00277</td>\n",
       "      <td>-0.178645</td>\n",
       "      <td>0</td>\n",
       "      <td>-0.423471</td>\n",
       "      <td>1.093862</td>\n",
       "      <td>-0.745341</td>\n",
       "      <td>-0.658597</td>\n",
       "      <td>NaN</td>\n",
       "    </tr>\n",
       "    <tr>\n",
       "      <th>4103601</th>\n",
       "      <td>37498088</td>\n",
       "      <td>113</td>\n",
       "      <td>483</td>\n",
       "      <td>12683151</td>\n",
       "      <td>143</td>\n",
       "      <td>5</td>\n",
       "      <td>-1.507284</td>\n",
       "      <td>-1.221852</td>\n",
       "      <td>-1.271769</td>\n",
       "      <td>-1.467797</td>\n",
       "      <td>...</td>\n",
       "      <td>-1.581964</td>\n",
       "      <td>1.363214</td>\n",
       "      <td>-0.00277</td>\n",
       "      <td>-0.178645</td>\n",
       "      <td>0</td>\n",
       "      <td>-0.423471</td>\n",
       "      <td>1.093862</td>\n",
       "      <td>-0.745341</td>\n",
       "      <td>-0.658597</td>\n",
       "      <td>NaN</td>\n",
       "    </tr>\n",
       "    <tr>\n",
       "      <th>4103602</th>\n",
       "      <td>37498092</td>\n",
       "      <td>113</td>\n",
       "      <td>483</td>\n",
       "      <td>12683151</td>\n",
       "      <td>143</td>\n",
       "      <td>5</td>\n",
       "      <td>-1.504820</td>\n",
       "      <td>-1.221667</td>\n",
       "      <td>-1.271213</td>\n",
       "      <td>-1.467887</td>\n",
       "      <td>...</td>\n",
       "      <td>-1.581964</td>\n",
       "      <td>1.363214</td>\n",
       "      <td>-0.00277</td>\n",
       "      <td>-0.178645</td>\n",
       "      <td>0</td>\n",
       "      <td>-0.423471</td>\n",
       "      <td>1.093862</td>\n",
       "      <td>-0.745341</td>\n",
       "      <td>-0.658597</td>\n",
       "      <td>NaN</td>\n",
       "    </tr>\n",
       "  </tbody>\n",
       "</table>\n",
       "<p>4103603 rows × 24 columns</p>\n",
       "</div>"
      ],
      "text/plain": [
       "             time  stage  Lot    runnum  recipe  recipe_step  \\\n",
       "0         3284714      1  640  10511726     249            1   \n",
       "1         3284720      1  640  10511726     249            1   \n",
       "2         3284722      1  640  10511726     249            1   \n",
       "3         3284726      1  640  10511726     249            1   \n",
       "4         3284730      1  640  10511726     249            1   \n",
       "...           ...    ...  ...       ...     ...          ...   \n",
       "4103598  37498076    113  483  12683151     143            5   \n",
       "4103599  37498080    113  483  12683151     143            5   \n",
       "4103600  37498084    113  483  12683151     143            5   \n",
       "4103601  37498088    113  483  12683151     143            5   \n",
       "4103602  37498092    113  483  12683151     143            5   \n",
       "\n",
       "         IONGAUGEPRESSURE  ETCHBEAMVOLTAGE  ETCHBEAMCURRENT  \\\n",
       "0               -1.547961        -1.222222        -1.272007   \n",
       "1               -1.547446        -1.221113        -1.272404   \n",
       "2               -1.546922        -1.221020        -1.272007   \n",
       "3               -1.547770        -1.221205        -1.271928   \n",
       "4               -1.548045        -1.222407        -1.271769   \n",
       "...                   ...              ...              ...   \n",
       "4103598         -1.491357        -1.222037        -1.271848   \n",
       "4103599         -1.500010        -1.221760        -1.271610   \n",
       "4103600         -1.502536        -1.222222        -1.272007   \n",
       "4103601         -1.507284        -1.221852        -1.271769   \n",
       "4103602         -1.504820        -1.221667        -1.271213   \n",
       "\n",
       "         ETCHSUPPRESSORVOLTAGE  ...  ETCHPBNGASREADBACK  FIXTURETILTANGLE  \\\n",
       "0                    -1.468476  ...           -1.601477          1.363214   \n",
       "1                    -1.468567  ...           -1.601477          1.363214   \n",
       "2                    -1.468522  ...           -1.601477          1.363214   \n",
       "3                    -1.468567  ...           -1.601477          1.363214   \n",
       "4                    -1.468522  ...           -1.601477          1.363214   \n",
       "...                        ...  ...                 ...               ...   \n",
       "4103598              -1.467752  ...           -1.581964          1.363214   \n",
       "4103599              -1.467842  ...           -1.581964          1.363214   \n",
       "4103600              -1.467933  ...           -1.581964          1.363214   \n",
       "4103601              -1.467797  ...           -1.581964          1.363214   \n",
       "4103602              -1.467887  ...           -1.581964          1.363214   \n",
       "\n",
       "         ROTATIONSPEED  ACTUALROTATIONANGLE  FIXTURESHUTTERPOSITION  \\\n",
       "0             -0.00277            -0.178652                       0   \n",
       "1             -0.00277            -0.178652                       0   \n",
       "2             -0.00277            -0.178652                       0   \n",
       "3             -0.00277            -0.178652                       0   \n",
       "4             -0.00277            -0.178652                       0   \n",
       "...                ...                  ...                     ...   \n",
       "4103598       -0.00277            -0.178645                       0   \n",
       "4103599       -0.00277            -0.178645                       0   \n",
       "4103600       -0.00277            -0.178645                       0   \n",
       "4103601       -0.00277            -0.178645                       0   \n",
       "4103602       -0.00277            -0.178645                       0   \n",
       "\n",
       "         ETCHSOURCEUSAGE  ETCHAUXSOURCETIMER  ETCHAUX2SOURCETIMER  \\\n",
       "0               0.471536           -0.811703            -0.217482   \n",
       "1               0.471536           -0.811703            -0.217482   \n",
       "2               0.471536           -0.811703            -0.217482   \n",
       "3               0.471536           -0.811703            -0.217482   \n",
       "4               0.471536           -0.811703            -0.217482   \n",
       "...                  ...                 ...                  ...   \n",
       "4103598        -0.423471            1.093862            -0.745341   \n",
       "4103599        -0.423471            1.093862            -0.745341   \n",
       "4103600        -0.423471            1.093862            -0.745341   \n",
       "4103601        -0.423471            1.093862            -0.745341   \n",
       "4103602        -0.423471            1.093862            -0.745341   \n",
       "\n",
       "         ACTUALSTEPDURATION  ttf_any  \n",
       "0                  1.772975  41036.0  \n",
       "1                  1.772975  41034.0  \n",
       "2                  1.772975  41030.0  \n",
       "3                  1.772975  41026.0  \n",
       "4                  1.772975  41022.0  \n",
       "...                     ...      ...  \n",
       "4103598           -0.658597      NaN  \n",
       "4103599           -0.658597      NaN  \n",
       "4103600           -0.658597      NaN  \n",
       "4103601           -0.658597      NaN  \n",
       "4103602           -0.658597      NaN  \n",
       "\n",
       "[4103603 rows x 24 columns]"
      ]
     },
     "execution_count": 26,
     "metadata": {},
     "output_type": "execute_result"
    }
   ],
   "source": [
    "train_target = train\n",
    "train_target['ttf_any'] = train_target['ttf_any'].shift(-shift_steps) \n",
    "train_target"
   ]
  },
  {
   "cell_type": "markdown",
   "metadata": {},
   "source": [
    "### Scaled Data"
   ]
  },
  {
   "cell_type": "code",
   "execution_count": 27,
   "metadata": {},
   "outputs": [],
   "source": [
    "scaler = MinMaxScaler()"
   ]
  },
  {
   "cell_type": "code",
   "execution_count": 28,
   "metadata": {},
   "outputs": [
    {
     "data": {
      "text/html": [
       "<div>\n",
       "<style scoped>\n",
       "    .dataframe tbody tr th:only-of-type {\n",
       "        vertical-align: middle;\n",
       "    }\n",
       "\n",
       "    .dataframe tbody tr th {\n",
       "        vertical-align: top;\n",
       "    }\n",
       "\n",
       "    .dataframe thead th {\n",
       "        text-align: right;\n",
       "    }\n",
       "</style>\n",
       "<table border=\"1\" class=\"dataframe\">\n",
       "  <thead>\n",
       "    <tr style=\"text-align: right;\">\n",
       "      <th></th>\n",
       "      <th>time</th>\n",
       "      <th>stage</th>\n",
       "      <th>Lot</th>\n",
       "      <th>runnum</th>\n",
       "      <th>recipe</th>\n",
       "      <th>recipe_step</th>\n",
       "      <th>IONGAUGEPRESSURE</th>\n",
       "      <th>ETCHBEAMVOLTAGE</th>\n",
       "      <th>ETCHBEAMCURRENT</th>\n",
       "      <th>ETCHSUPPRESSORVOLTAGE</th>\n",
       "      <th>...</th>\n",
       "      <th>ETCHPBNGASREADBACK</th>\n",
       "      <th>FIXTURETILTANGLE</th>\n",
       "      <th>ROTATIONSPEED</th>\n",
       "      <th>ACTUALROTATIONANGLE</th>\n",
       "      <th>FIXTURESHUTTERPOSITION</th>\n",
       "      <th>ETCHSOURCEUSAGE</th>\n",
       "      <th>ETCHAUXSOURCETIMER</th>\n",
       "      <th>ETCHAUX2SOURCETIMER</th>\n",
       "      <th>ACTUALSTEPDURATION</th>\n",
       "      <th>ttf_any</th>\n",
       "    </tr>\n",
       "  </thead>\n",
       "  <tbody>\n",
       "    <tr>\n",
       "      <th>0</th>\n",
       "      <td>0.000000e+00</td>\n",
       "      <td>0.003460</td>\n",
       "      <td>0.030732</td>\n",
       "      <td>0.0</td>\n",
       "      <td>0.827103</td>\n",
       "      <td>0.023256</td>\n",
       "      <td>0.000004</td>\n",
       "      <td>0.000278</td>\n",
       "      <td>0.000610</td>\n",
       "      <td>0.001668</td>\n",
       "      <td>...</td>\n",
       "      <td>0.076232</td>\n",
       "      <td>0.156772</td>\n",
       "      <td>0.5</td>\n",
       "      <td>0.5</td>\n",
       "      <td>0.0</td>\n",
       "      <td>0.592694</td>\n",
       "      <td>0.246850</td>\n",
       "      <td>0.398852</td>\n",
       "      <td>0.200000</td>\n",
       "      <td>0.029279</td>\n",
       "    </tr>\n",
       "    <tr>\n",
       "      <th>1</th>\n",
       "      <td>1.753700e-07</td>\n",
       "      <td>0.003460</td>\n",
       "      <td>0.030732</td>\n",
       "      <td>0.0</td>\n",
       "      <td>0.827103</td>\n",
       "      <td>0.023256</td>\n",
       "      <td>0.000005</td>\n",
       "      <td>0.000564</td>\n",
       "      <td>0.000534</td>\n",
       "      <td>0.001636</td>\n",
       "      <td>...</td>\n",
       "      <td>0.076232</td>\n",
       "      <td>0.156772</td>\n",
       "      <td>0.5</td>\n",
       "      <td>0.5</td>\n",
       "      <td>0.0</td>\n",
       "      <td>0.592694</td>\n",
       "      <td>0.246850</td>\n",
       "      <td>0.398852</td>\n",
       "      <td>0.200000</td>\n",
       "      <td>0.029278</td>\n",
       "    </tr>\n",
       "    <tr>\n",
       "      <th>2</th>\n",
       "      <td>2.338267e-07</td>\n",
       "      <td>0.003460</td>\n",
       "      <td>0.030732</td>\n",
       "      <td>0.0</td>\n",
       "      <td>0.827103</td>\n",
       "      <td>0.023256</td>\n",
       "      <td>0.000005</td>\n",
       "      <td>0.000588</td>\n",
       "      <td>0.000610</td>\n",
       "      <td>0.001652</td>\n",
       "      <td>...</td>\n",
       "      <td>0.076232</td>\n",
       "      <td>0.156772</td>\n",
       "      <td>0.5</td>\n",
       "      <td>0.5</td>\n",
       "      <td>0.0</td>\n",
       "      <td>0.592694</td>\n",
       "      <td>0.246850</td>\n",
       "      <td>0.398852</td>\n",
       "      <td>0.200000</td>\n",
       "      <td>0.029275</td>\n",
       "    </tr>\n",
       "    <tr>\n",
       "      <th>3</th>\n",
       "      <td>3.507400e-07</td>\n",
       "      <td>0.003460</td>\n",
       "      <td>0.030732</td>\n",
       "      <td>0.0</td>\n",
       "      <td>0.827103</td>\n",
       "      <td>0.023256</td>\n",
       "      <td>0.000004</td>\n",
       "      <td>0.000540</td>\n",
       "      <td>0.000626</td>\n",
       "      <td>0.001636</td>\n",
       "      <td>...</td>\n",
       "      <td>0.076232</td>\n",
       "      <td>0.156772</td>\n",
       "      <td>0.5</td>\n",
       "      <td>0.5</td>\n",
       "      <td>0.0</td>\n",
       "      <td>0.592694</td>\n",
       "      <td>0.246850</td>\n",
       "      <td>0.398852</td>\n",
       "      <td>0.200000</td>\n",
       "      <td>0.029272</td>\n",
       "    </tr>\n",
       "    <tr>\n",
       "      <th>4</th>\n",
       "      <td>4.676533e-07</td>\n",
       "      <td>0.003460</td>\n",
       "      <td>0.030732</td>\n",
       "      <td>0.0</td>\n",
       "      <td>0.827103</td>\n",
       "      <td>0.023256</td>\n",
       "      <td>0.000004</td>\n",
       "      <td>0.000231</td>\n",
       "      <td>0.000656</td>\n",
       "      <td>0.001652</td>\n",
       "      <td>...</td>\n",
       "      <td>0.076232</td>\n",
       "      <td>0.156772</td>\n",
       "      <td>0.5</td>\n",
       "      <td>0.5</td>\n",
       "      <td>0.0</td>\n",
       "      <td>0.592694</td>\n",
       "      <td>0.246850</td>\n",
       "      <td>0.398852</td>\n",
       "      <td>0.200000</td>\n",
       "      <td>0.029269</td>\n",
       "    </tr>\n",
       "    <tr>\n",
       "      <th>...</th>\n",
       "      <td>...</td>\n",
       "      <td>...</td>\n",
       "      <td>...</td>\n",
       "      <td>...</td>\n",
       "      <td>...</td>\n",
       "      <td>...</td>\n",
       "      <td>...</td>\n",
       "      <td>...</td>\n",
       "      <td>...</td>\n",
       "      <td>...</td>\n",
       "      <td>...</td>\n",
       "      <td>...</td>\n",
       "      <td>...</td>\n",
       "      <td>...</td>\n",
       "      <td>...</td>\n",
       "      <td>...</td>\n",
       "      <td>...</td>\n",
       "      <td>...</td>\n",
       "      <td>...</td>\n",
       "      <td>...</td>\n",
       "      <td>...</td>\n",
       "    </tr>\n",
       "    <tr>\n",
       "      <th>4103598</th>\n",
       "      <td>9.999995e-01</td>\n",
       "      <td>0.391003</td>\n",
       "      <td>0.023193</td>\n",
       "      <td>1.0</td>\n",
       "      <td>0.331776</td>\n",
       "      <td>0.116279</td>\n",
       "      <td>0.000097</td>\n",
       "      <td>0.000326</td>\n",
       "      <td>0.000641</td>\n",
       "      <td>0.001925</td>\n",
       "      <td>...</td>\n",
       "      <td>0.081598</td>\n",
       "      <td>0.156772</td>\n",
       "      <td>0.5</td>\n",
       "      <td>0.5</td>\n",
       "      <td>0.0</td>\n",
       "      <td>0.339563</td>\n",
       "      <td>0.744441</td>\n",
       "      <td>0.218255</td>\n",
       "      <td>0.012593</td>\n",
       "      <td>NaN</td>\n",
       "    </tr>\n",
       "    <tr>\n",
       "      <th>4103599</th>\n",
       "      <td>9.999996e-01</td>\n",
       "      <td>0.391003</td>\n",
       "      <td>0.023193</td>\n",
       "      <td>1.0</td>\n",
       "      <td>0.331776</td>\n",
       "      <td>0.116279</td>\n",
       "      <td>0.000083</td>\n",
       "      <td>0.000397</td>\n",
       "      <td>0.000687</td>\n",
       "      <td>0.001893</td>\n",
       "      <td>...</td>\n",
       "      <td>0.081598</td>\n",
       "      <td>0.156772</td>\n",
       "      <td>0.5</td>\n",
       "      <td>0.5</td>\n",
       "      <td>0.0</td>\n",
       "      <td>0.339563</td>\n",
       "      <td>0.744441</td>\n",
       "      <td>0.218255</td>\n",
       "      <td>0.012593</td>\n",
       "      <td>NaN</td>\n",
       "    </tr>\n",
       "    <tr>\n",
       "      <th>4103600</th>\n",
       "      <td>9.999998e-01</td>\n",
       "      <td>0.391003</td>\n",
       "      <td>0.023193</td>\n",
       "      <td>1.0</td>\n",
       "      <td>0.331776</td>\n",
       "      <td>0.116279</td>\n",
       "      <td>0.000079</td>\n",
       "      <td>0.000278</td>\n",
       "      <td>0.000610</td>\n",
       "      <td>0.001861</td>\n",
       "      <td>...</td>\n",
       "      <td>0.081598</td>\n",
       "      <td>0.156772</td>\n",
       "      <td>0.5</td>\n",
       "      <td>0.5</td>\n",
       "      <td>0.0</td>\n",
       "      <td>0.339563</td>\n",
       "      <td>0.744441</td>\n",
       "      <td>0.218255</td>\n",
       "      <td>0.012593</td>\n",
       "      <td>NaN</td>\n",
       "    </tr>\n",
       "    <tr>\n",
       "      <th>4103601</th>\n",
       "      <td>9.999999e-01</td>\n",
       "      <td>0.391003</td>\n",
       "      <td>0.023193</td>\n",
       "      <td>1.0</td>\n",
       "      <td>0.331776</td>\n",
       "      <td>0.116279</td>\n",
       "      <td>0.000071</td>\n",
       "      <td>0.000374</td>\n",
       "      <td>0.000656</td>\n",
       "      <td>0.001909</td>\n",
       "      <td>...</td>\n",
       "      <td>0.081598</td>\n",
       "      <td>0.156772</td>\n",
       "      <td>0.5</td>\n",
       "      <td>0.5</td>\n",
       "      <td>0.0</td>\n",
       "      <td>0.339563</td>\n",
       "      <td>0.744441</td>\n",
       "      <td>0.218255</td>\n",
       "      <td>0.012593</td>\n",
       "      <td>NaN</td>\n",
       "    </tr>\n",
       "    <tr>\n",
       "      <th>4103602</th>\n",
       "      <td>1.000000e+00</td>\n",
       "      <td>0.391003</td>\n",
       "      <td>0.023193</td>\n",
       "      <td>1.0</td>\n",
       "      <td>0.331776</td>\n",
       "      <td>0.116279</td>\n",
       "      <td>0.000075</td>\n",
       "      <td>0.000421</td>\n",
       "      <td>0.000763</td>\n",
       "      <td>0.001877</td>\n",
       "      <td>...</td>\n",
       "      <td>0.081598</td>\n",
       "      <td>0.156772</td>\n",
       "      <td>0.5</td>\n",
       "      <td>0.5</td>\n",
       "      <td>0.0</td>\n",
       "      <td>0.339563</td>\n",
       "      <td>0.744441</td>\n",
       "      <td>0.218255</td>\n",
       "      <td>0.012593</td>\n",
       "      <td>NaN</td>\n",
       "    </tr>\n",
       "  </tbody>\n",
       "</table>\n",
       "<p>4103603 rows × 24 columns</p>\n",
       "</div>"
      ],
      "text/plain": [
       "                 time     stage       Lot  runnum    recipe  recipe_step  \\\n",
       "0        0.000000e+00  0.003460  0.030732     0.0  0.827103     0.023256   \n",
       "1        1.753700e-07  0.003460  0.030732     0.0  0.827103     0.023256   \n",
       "2        2.338267e-07  0.003460  0.030732     0.0  0.827103     0.023256   \n",
       "3        3.507400e-07  0.003460  0.030732     0.0  0.827103     0.023256   \n",
       "4        4.676533e-07  0.003460  0.030732     0.0  0.827103     0.023256   \n",
       "...               ...       ...       ...     ...       ...          ...   \n",
       "4103598  9.999995e-01  0.391003  0.023193     1.0  0.331776     0.116279   \n",
       "4103599  9.999996e-01  0.391003  0.023193     1.0  0.331776     0.116279   \n",
       "4103600  9.999998e-01  0.391003  0.023193     1.0  0.331776     0.116279   \n",
       "4103601  9.999999e-01  0.391003  0.023193     1.0  0.331776     0.116279   \n",
       "4103602  1.000000e+00  0.391003  0.023193     1.0  0.331776     0.116279   \n",
       "\n",
       "         IONGAUGEPRESSURE  ETCHBEAMVOLTAGE  ETCHBEAMCURRENT  \\\n",
       "0                0.000004         0.000278         0.000610   \n",
       "1                0.000005         0.000564         0.000534   \n",
       "2                0.000005         0.000588         0.000610   \n",
       "3                0.000004         0.000540         0.000626   \n",
       "4                0.000004         0.000231         0.000656   \n",
       "...                   ...              ...              ...   \n",
       "4103598          0.000097         0.000326         0.000641   \n",
       "4103599          0.000083         0.000397         0.000687   \n",
       "4103600          0.000079         0.000278         0.000610   \n",
       "4103601          0.000071         0.000374         0.000656   \n",
       "4103602          0.000075         0.000421         0.000763   \n",
       "\n",
       "         ETCHSUPPRESSORVOLTAGE  ...  ETCHPBNGASREADBACK  FIXTURETILTANGLE  \\\n",
       "0                     0.001668  ...            0.076232          0.156772   \n",
       "1                     0.001636  ...            0.076232          0.156772   \n",
       "2                     0.001652  ...            0.076232          0.156772   \n",
       "3                     0.001636  ...            0.076232          0.156772   \n",
       "4                     0.001652  ...            0.076232          0.156772   \n",
       "...                        ...  ...                 ...               ...   \n",
       "4103598               0.001925  ...            0.081598          0.156772   \n",
       "4103599               0.001893  ...            0.081598          0.156772   \n",
       "4103600               0.001861  ...            0.081598          0.156772   \n",
       "4103601               0.001909  ...            0.081598          0.156772   \n",
       "4103602               0.001877  ...            0.081598          0.156772   \n",
       "\n",
       "         ROTATIONSPEED  ACTUALROTATIONANGLE  FIXTURESHUTTERPOSITION  \\\n",
       "0                  0.5                  0.5                     0.0   \n",
       "1                  0.5                  0.5                     0.0   \n",
       "2                  0.5                  0.5                     0.0   \n",
       "3                  0.5                  0.5                     0.0   \n",
       "4                  0.5                  0.5                     0.0   \n",
       "...                ...                  ...                     ...   \n",
       "4103598            0.5                  0.5                     0.0   \n",
       "4103599            0.5                  0.5                     0.0   \n",
       "4103600            0.5                  0.5                     0.0   \n",
       "4103601            0.5                  0.5                     0.0   \n",
       "4103602            0.5                  0.5                     0.0   \n",
       "\n",
       "         ETCHSOURCEUSAGE  ETCHAUXSOURCETIMER  ETCHAUX2SOURCETIMER  \\\n",
       "0               0.592694            0.246850             0.398852   \n",
       "1               0.592694            0.246850             0.398852   \n",
       "2               0.592694            0.246850             0.398852   \n",
       "3               0.592694            0.246850             0.398852   \n",
       "4               0.592694            0.246850             0.398852   \n",
       "...                  ...                 ...                  ...   \n",
       "4103598         0.339563            0.744441             0.218255   \n",
       "4103599         0.339563            0.744441             0.218255   \n",
       "4103600         0.339563            0.744441             0.218255   \n",
       "4103601         0.339563            0.744441             0.218255   \n",
       "4103602         0.339563            0.744441             0.218255   \n",
       "\n",
       "         ACTUALSTEPDURATION   ttf_any  \n",
       "0                  0.200000  0.029279  \n",
       "1                  0.200000  0.029278  \n",
       "2                  0.200000  0.029275  \n",
       "3                  0.200000  0.029272  \n",
       "4                  0.200000  0.029269  \n",
       "...                     ...       ...  \n",
       "4103598            0.012593       NaN  \n",
       "4103599            0.012593       NaN  \n",
       "4103600            0.012593       NaN  \n",
       "4103601            0.012593       NaN  \n",
       "4103602            0.012593       NaN  \n",
       "\n",
       "[4103603 rows x 24 columns]"
      ]
     },
     "execution_count": 28,
     "metadata": {},
     "output_type": "execute_result"
    }
   ],
   "source": [
    "df_scaled = pd.DataFrame(scaler.fit_transform(train_target), columns=train_target.columns)\n",
    "df_scaled"
   ]
  },
  {
   "cell_type": "code",
   "execution_count": 29,
   "metadata": {},
   "outputs": [],
   "source": [
    "train_target = df_scaled"
   ]
  },
  {
   "cell_type": "code",
   "execution_count": null,
   "metadata": {},
   "outputs": [],
   "source": []
  },
  {
   "cell_type": "code",
   "execution_count": 30,
   "metadata": {},
   "outputs": [
    {
     "name": "stdout",
     "output_type": "stream",
     "text": [
      "<class 'numpy.ndarray'>\n",
      "Shape: (4103503, 1)\n"
     ]
    }
   ],
   "source": [
    "## Double brackets for the right shape\n",
    "y_data = train_target[['ttf_any']].values[:-shift_steps]\n",
    "\n",
    "print(type(y_data))\n",
    "print(\"Shape:\", y_data.shape)"
   ]
  },
  {
   "cell_type": "code",
   "execution_count": 31,
   "metadata": {},
   "outputs": [],
   "source": [
    "train_target = train_target.drop('ttf_any', axis=1)"
   ]
  },
  {
   "cell_type": "code",
   "execution_count": 32,
   "metadata": {},
   "outputs": [
    {
     "name": "stdout",
     "output_type": "stream",
     "text": [
      "<class 'numpy.ndarray'>\n",
      "Shape: (4103503, 23)\n"
     ]
    }
   ],
   "source": [
    "x_data = train_target.values[0:-shift_steps]\n",
    "\n",
    "print(type(x_data))\n",
    "print(\"Shape:\", x_data.shape)"
   ]
  },
  {
   "cell_type": "code",
   "execution_count": null,
   "metadata": {},
   "outputs": [],
   "source": []
  },
  {
   "cell_type": "code",
   "execution_count": 33,
   "metadata": {},
   "outputs": [],
   "source": [
    "del(train_target)\n",
    "del(train)\n",
    "del(train_faults)\n",
    "del(train_ttf)\n",
    "del(df_scaled)"
   ]
  },
  {
   "cell_type": "code",
   "execution_count": null,
   "metadata": {},
   "outputs": [],
   "source": []
  },
  {
   "cell_type": "markdown",
   "metadata": {},
   "source": [
    "Number of observations:"
   ]
  },
  {
   "cell_type": "code",
   "execution_count": 34,
   "metadata": {},
   "outputs": [
    {
     "data": {
      "text/plain": [
       "4103503"
      ]
     },
     "execution_count": 34,
     "metadata": {},
     "output_type": "execute_result"
    }
   ],
   "source": [
    "num_data = len(x_data)\n",
    "num_data"
   ]
  },
  {
   "cell_type": "markdown",
   "metadata": {},
   "source": [
    "Validation data splitting:"
   ]
  },
  {
   "cell_type": "code",
   "execution_count": 35,
   "metadata": {},
   "outputs": [],
   "source": [
    "train_split = 0.9"
   ]
  },
  {
   "cell_type": "code",
   "execution_count": 36,
   "metadata": {},
   "outputs": [
    {
     "data": {
      "text/plain": [
       "3693152"
      ]
     },
     "execution_count": 36,
     "metadata": {},
     "output_type": "execute_result"
    }
   ],
   "source": [
    "num_train = int(train_split * num_data)\n",
    "num_train"
   ]
  },
  {
   "cell_type": "code",
   "execution_count": 37,
   "metadata": {},
   "outputs": [
    {
     "data": {
      "text/plain": [
       "410351"
      ]
     },
     "execution_count": 37,
     "metadata": {},
     "output_type": "execute_result"
    }
   ],
   "source": [
    "num_test = num_data - num_train\n",
    "num_test"
   ]
  },
  {
   "cell_type": "markdown",
   "metadata": {},
   "source": [
    "Train and Validation inputs:"
   ]
  },
  {
   "cell_type": "code",
   "execution_count": 38,
   "metadata": {},
   "outputs": [
    {
     "data": {
      "text/plain": [
       "4103503"
      ]
     },
     "execution_count": 38,
     "metadata": {},
     "output_type": "execute_result"
    }
   ],
   "source": [
    "x_train = x_data[0:num_train]\n",
    "x_test = x_data[num_train:]\n",
    "len(x_train) + len(x_test)"
   ]
  },
  {
   "cell_type": "markdown",
   "metadata": {},
   "source": [
    "Train and Validation output:"
   ]
  },
  {
   "cell_type": "code",
   "execution_count": 39,
   "metadata": {},
   "outputs": [
    {
     "data": {
      "text/plain": [
       "4103503"
      ]
     },
     "execution_count": 39,
     "metadata": {},
     "output_type": "execute_result"
    }
   ],
   "source": [
    "y_train = y_data[0:num_train]\n",
    "y_test = y_data[num_train:]\n",
    "len(y_train) + len(y_test)"
   ]
  },
  {
   "cell_type": "markdown",
   "metadata": {},
   "source": [
    "Number of input-signals:"
   ]
  },
  {
   "cell_type": "code",
   "execution_count": 40,
   "metadata": {},
   "outputs": [
    {
     "data": {
      "text/plain": [
       "23"
      ]
     },
     "execution_count": 40,
     "metadata": {},
     "output_type": "execute_result"
    }
   ],
   "source": [
    "num_x_signals = x_data.shape[1]\n",
    "num_x_signals"
   ]
  },
  {
   "cell_type": "markdown",
   "metadata": {},
   "source": [
    "Number of output-signals:"
   ]
  },
  {
   "cell_type": "code",
   "execution_count": 41,
   "metadata": {
    "scrolled": true
   },
   "outputs": [
    {
     "data": {
      "text/plain": [
       "1"
      ]
     },
     "execution_count": 41,
     "metadata": {},
     "output_type": "execute_result"
    }
   ],
   "source": [
    "num_y_signals = y_data.shape[1]\n",
    "num_y_signals"
   ]
  },
  {
   "cell_type": "code",
   "execution_count": null,
   "metadata": {},
   "outputs": [],
   "source": []
  },
  {
   "cell_type": "markdown",
   "metadata": {},
   "source": [
    "## Already scaled"
   ]
  },
  {
   "cell_type": "code",
   "execution_count": 42,
   "metadata": {},
   "outputs": [
    {
     "name": "stdout",
     "output_type": "stream",
     "text": [
      "(3693152, 23)\n",
      "(3693152, 1)\n"
     ]
    }
   ],
   "source": [
    "print(x_train.shape)\n",
    "print(y_train.shape)"
   ]
  },
  {
   "cell_type": "markdown",
   "metadata": {},
   "source": [
    "## Data Generator"
   ]
  },
  {
   "cell_type": "code",
   "execution_count": 43,
   "metadata": {},
   "outputs": [],
   "source": [
    "def batch_generator(batch_size, sequence_length):\n",
    "    \"\"\"\n",
    "    Generator function for creating random batches of training-data.\n",
    "    \"\"\"\n",
    "\n",
    "    # Infinite loop.\n",
    "    while True:\n",
    "        # Allocate a new array for the batch of input-signals.\n",
    "        x_shape = (batch_size, sequence_length, num_x_signals)\n",
    "        x_batch = np.zeros(shape=x_shape, dtype=np.float16)\n",
    "\n",
    "        # Allocate a new array for the batch of output-signals.\n",
    "        y_shape = (batch_size, sequence_length, num_y_signals)\n",
    "        y_batch = np.zeros(shape=y_shape, dtype=np.float16)\n",
    "\n",
    "        # Fill the batch with random sequences of data.\n",
    "        for i in range(batch_size):\n",
    "            # Get a random start-index.\n",
    "            # This points somewhere into the training-data.\n",
    "            idx = np.random.randint(num_train - sequence_length)\n",
    "            \n",
    "            # Copy the sequences of data starting at this index.\n",
    "            x_batch[i] = x_train[idx:idx+sequence_length]\n",
    "            y_batch[i] = y_train[idx:idx+sequence_length]\n",
    "        \n",
    "        yield (x_batch, y_batch)"
   ]
  },
  {
   "cell_type": "markdown",
   "metadata": {},
   "source": [
    "Low RAM; small batch size :("
   ]
  },
  {
   "cell_type": "code",
   "execution_count": 44,
   "metadata": {},
   "outputs": [],
   "source": [
    "batch_size = 8"
   ]
  },
  {
   "cell_type": "markdown",
   "metadata": {},
   "source": [
    "## Time window\n",
    "\n",
    "BOTTOM TEXT"
   ]
  },
  {
   "cell_type": "markdown",
   "metadata": {},
   "source": [
    "How long back to go to predict the current value"
   ]
  },
  {
   "cell_type": "code",
   "execution_count": 45,
   "metadata": {},
   "outputs": [
    {
     "data": {
      "text/plain": [
       "2000"
      ]
     },
     "execution_count": 45,
     "metadata": {},
     "output_type": "execute_result"
    }
   ],
   "source": [
    "sequence_length = 2000\n",
    "sequence_length"
   ]
  },
  {
   "cell_type": "markdown",
   "metadata": {},
   "source": [
    "***"
   ]
  },
  {
   "cell_type": "code",
   "execution_count": 46,
   "metadata": {},
   "outputs": [],
   "source": [
    "generator = batch_generator(batch_size=batch_size,\n",
    "                            sequence_length=sequence_length)"
   ]
  },
  {
   "cell_type": "markdown",
   "metadata": {},
   "source": [
    "Test obtaining a batch:"
   ]
  },
  {
   "cell_type": "code",
   "execution_count": 47,
   "metadata": {},
   "outputs": [],
   "source": [
    "x_batch, y_batch = next(generator)"
   ]
  },
  {
   "cell_type": "code",
   "execution_count": 48,
   "metadata": {},
   "outputs": [
    {
     "name": "stdout",
     "output_type": "stream",
     "text": [
      "(8, 2000, 23)\n",
      "(8, 2000, 1)\n"
     ]
    }
   ],
   "source": [
    "print(x_batch.shape)\n",
    "print(y_batch.shape)"
   ]
  },
  {
   "cell_type": "markdown",
   "metadata": {},
   "source": [
    "Plot one signal for example"
   ]
  },
  {
   "cell_type": "code",
   "execution_count": 49,
   "metadata": {},
   "outputs": [
    {
     "data": {
      "text/plain": [
       "[<matplotlib.lines.Line2D at 0x21186cb76c8>]"
      ]
     },
     "execution_count": 49,
     "metadata": {},
     "output_type": "execute_result"
    },
    {
     "data": {
      "image/png": "[encoded data removed]",
      "text/plain": [
       "<Figure size 432x288 with 1 Axes>"
      ]
     },
     "metadata": {
      "needs_background": "light"
     },
     "output_type": "display_data"
    }
   ],
   "source": [
    "batch = 0   # First sequence in the batch.\n",
    "signal = 0  # First signal from the 20 input-signals.\n",
    "seq = x_batch[batch, :, signal]\n",
    "plt.plot(seq)"
   ]
  },
  {
   "cell_type": "markdown",
   "metadata": {},
   "source": [
    "Plot y"
   ]
  },
  {
   "cell_type": "code",
   "execution_count": 50,
   "metadata": {},
   "outputs": [
    {
     "data": {
      "text/plain": [
       "[<matplotlib.lines.Line2D at 0x21186c85d48>]"
      ]
     },
     "execution_count": 50,
     "metadata": {},
     "output_type": "execute_result"
    },
    {
     "data": {
      "image/png": "[encoded data removed]",
      "text/plain": [
       "<Figure size 432x288 with 1 Axes>"
      ]
     },
     "metadata": {
      "needs_background": "light"
     },
     "output_type": "display_data"
    }
   ],
   "source": [
    "seq = y_batch[batch, :, signal]\n",
    "plt.plot(seq)"
   ]
  },
  {
   "cell_type": "markdown",
   "metadata": {},
   "source": [
    "### Validation Data"
   ]
  },
  {
   "cell_type": "code",
   "execution_count": 52,
   "metadata": {},
   "outputs": [],
   "source": [
    "validation_data = (np.expand_dims(x_test, axis=0),\n",
    "                   np.expand_dims(y_test, axis=0))"
   ]
  },
  {
   "cell_type": "code",
   "execution_count": null,
   "metadata": {},
   "outputs": [],
   "source": []
  },
  {
   "cell_type": "markdown",
   "metadata": {},
   "source": [
    "## The Recurrent Neural Network"
   ]
  },
  {
   "cell_type": "code",
   "execution_count": 53,
   "metadata": {},
   "outputs": [],
   "source": [
    "model = Sequential()"
   ]
  },
  {
   "cell_type": "markdown",
   "metadata": {},
   "source": [
    "Gated Recurrent Unit (GRU) with 512 outputs for each time-step in the sequence.\n",
    "\n",
    "Each observation has a number of input-signals (`num_x_signals`)."
   ]
  },
  {
   "cell_type": "code",
   "execution_count": 54,
   "metadata": {},
   "outputs": [
    {
     "name": "stderr",
     "output_type": "stream",
     "text": [
      "WARNING: Logging before flag parsing goes to stderr.\n",
      "W0106 17:01:39.459206 15080 deprecation.py:506] From c:\\pphiles\\python37\\lib\\site-packages\\tensorflow\\python\\ops\\init_ops.py:1251: calling VarianceScaling.__init__ (from tensorflow.python.ops.init_ops) with dtype is deprecated and will be removed in a future version.\n",
      "Instructions for updating:\n",
      "Call initializer instance with the dtype argument instead of passing it to the constructor\n"
     ]
    }
   ],
   "source": [
    "model.add(GRU(units=512,\n",
    "              return_sequences=True,\n",
    "              input_shape=(None, num_x_signals,)))"
   ]
  },
  {
   "cell_type": "code",
   "execution_count": 55,
   "metadata": {},
   "outputs": [],
   "source": [
    "model.add(Dense(num_y_signals, activation='sigmoid'))"
   ]
  },
  {
   "cell_type": "markdown",
   "metadata": {},
   "source": [
    "Mean Squared Error (MSE) for loss function.\n",
    "\n",
    "At the beginning of a sequence, the model would have seen only a few signals which makes it innacurate, this affects the loss and messes with the training."
   ]
  },
  {
   "cell_type": "code",
   "execution_count": 56,
   "metadata": {},
   "outputs": [],
   "source": [
    "warmup_steps = 50"
   ]
  },
  {
   "cell_type": "code",
   "execution_count": 57,
   "metadata": {},
   "outputs": [],
   "source": [
    "def loss_mse_warmup(y_true, y_pred):\n",
    "    \"\"\"\n",
    "    Calculate the Mean Squared Error between y_true and y_pred,\n",
    "    but ignore the beginning \"warmup\" part of the sequences.\n",
    "    \n",
    "    y_true is the desired output.\n",
    "    y_pred is the model's output.\n",
    "    \"\"\"\n",
    "\n",
    "    # The shape of both input tensors are:\n",
    "    # [batch_size, sequence_length, num_y_signals].\n",
    "\n",
    "    # Ignore the \"warmup\" parts of the sequences\n",
    "    # by taking slices of the tensors.\n",
    "    y_true_slice = y_true[:, warmup_steps:, :]\n",
    "    y_pred_slice = y_pred[:, warmup_steps:, :]\n",
    "\n",
    "    # These sliced tensors both have this shape:\n",
    "    # [batch_size, sequence_length - warmup_steps, num_y_signals]\n",
    "\n",
    "    # Calculate the MSE loss for each value in these tensors.\n",
    "    # This outputs a 3-rank tensor of the same shape.\n",
    "    loss = tf.losses.mean_squared_error(labels=y_true_slice,\n",
    "                                        predictions=y_pred_slice)\n",
    "\n",
    "    # Keras may reduce this across the first axis (the batch)\n",
    "    # but the semantics are unclear, so to be sure we use\n",
    "    # the loss across the entire tensor, we reduce it to a\n",
    "    # single scalar with the mean function.\n",
    "    loss_mean = tf.reduce_mean(loss)\n",
    "\n",
    "    return loss_mean"
   ]
  },
  {
   "cell_type": "markdown",
   "metadata": {},
   "source": [
    "### Compile Model"
   ]
  },
  {
   "cell_type": "code",
   "execution_count": 58,
   "metadata": {},
   "outputs": [],
   "source": [
    "optimizer = RMSprop(lr=1e-3)"
   ]
  },
  {
   "cell_type": "code",
   "execution_count": 59,
   "metadata": {},
   "outputs": [
    {
     "name": "stderr",
     "output_type": "stream",
     "text": [
      "W0106 17:01:51.845839 15080 deprecation.py:323] From c:\\pphiles\\python37\\lib\\site-packages\\tensorflow\\python\\ops\\losses\\losses_impl.py:121: add_dispatch_support.<locals>.wrapper (from tensorflow.python.ops.array_ops) is deprecated and will be removed in a future version.\n",
      "Instructions for updating:\n",
      "Use tf.where in 2.0, which has the same broadcast rule as np.where\n"
     ]
    }
   ],
   "source": [
    "model.compile(loss=loss_mse_warmup, optimizer=optimizer)"
   ]
  },
  {
   "cell_type": "code",
   "execution_count": 60,
   "metadata": {},
   "outputs": [
    {
     "name": "stdout",
     "output_type": "stream",
     "text": [
      "Model: \"sequential\"\n",
      "_________________________________________________________________\n",
      "Layer (type)                 Output Shape              Param #   \n",
      "=================================================================\n",
      "gru (GRU)                    (None, None, 512)         823296    \n",
      "_________________________________________________________________\n",
      "dense (Dense)                (None, None, 1)           513       \n",
      "=================================================================\n",
      "Total params: 823,809\n",
      "Trainable params: 823,809\n",
      "Non-trainable params: 0\n",
      "_________________________________________________________________\n"
     ]
    }
   ],
   "source": [
    "model.summary()"
   ]
  },
  {
   "cell_type": "markdown",
   "metadata": {},
   "source": [
    "### Callback Functions"
   ]
  },
  {
   "cell_type": "code",
   "execution_count": 64,
   "metadata": {},
   "outputs": [],
   "source": [
    "path_checkpoint = 'PHM.keras'\n",
    "callback_checkpoint = ModelCheckpoint(filepath=path_checkpoint,\n",
    "                                      monitor='val_loss',\n",
    "                                      verbose=1,\n",
    "                                      save_weights_only=True,\n",
    "                                      save_best_only=True)"
   ]
  },
  {
   "cell_type": "code",
   "execution_count": 66,
   "metadata": {},
   "outputs": [],
   "source": [
    "callback_tensorboard = TensorBoard(log_dir='./PHM_logs/',\n",
    "                                   histogram_freq=0,\n",
    "                                   write_graph=False)"
   ]
  },
  {
   "cell_type": "markdown",
   "metadata": {},
   "source": [
    "This is the callback for stopping the optimization when performance worsens on the validation-set."
   ]
  },
  {
   "cell_type": "code",
   "execution_count": 65,
   "metadata": {},
   "outputs": [],
   "source": [
    "callback_early_stopping = EarlyStopping(monitor='val_loss',\n",
    "                                        patience=5, verbose=1)"
   ]
  },
  {
   "cell_type": "markdown",
   "metadata": {},
   "source": [
    "This callback reduces the learning-rate for the optimizer if the validation-loss has not improved since the last epoch."
   ]
  },
  {
   "cell_type": "code",
   "execution_count": 67,
   "metadata": {},
   "outputs": [],
   "source": [
    "callback_reduce_lr = ReduceLROnPlateau(monitor='val_loss',\n",
    "                                       factor=0.1,\n",
    "                                       min_lr=1e-4,\n",
    "                                       patience=0,\n",
    "                                       verbose=1)"
   ]
  },
  {
   "cell_type": "code",
   "execution_count": 68,
   "metadata": {},
   "outputs": [],
   "source": [
    "callbacks = [callback_early_stopping,\n",
    "             callback_checkpoint,\n",
    "             callback_tensorboard,\n",
    "             callback_reduce_lr]"
   ]
  },
  {
   "cell_type": "markdown",
   "metadata": {},
   "source": [
    "## Train the Recurrent Neural Network"
   ]
  },
  {
   "cell_type": "code",
   "execution_count": 70,
   "metadata": {},
   "outputs": [
    {
     "name": "stdout",
     "output_type": "stream",
     "text": [
      "Epoch 1/20\n",
      " 99/100 [============================>.] - ETA: 5s - loss: 0.0193 \n",
      "Epoch 00001: val_loss improved from inf to 0.07125, saving model to PHM.keras\n",
      "100/100 [==============================] - 848s 8s/step - loss: 0.0191 - val_loss: 0.0712\n",
      "Epoch 2/20\n",
      " 99/100 [============================>.] - ETA: 5s - loss: 0.0227 \n",
      "Epoch 00002: val_loss improved from 0.07125 to 0.06442, saving model to PHM.keras\n",
      "100/100 [==============================] - 716s 7s/step - loss: 0.0225 - val_loss: 0.0644\n",
      "Epoch 3/20\n",
      " 99/100 [============================>.] - ETA: 5s - loss: 0.0194 \n",
      "Epoch 00003: val_loss improved from 0.06442 to 0.06108, saving model to PHM.keras\n",
      "100/100 [==============================] - 701s 7s/step - loss: 0.0193 - val_loss: 0.0611\n",
      "Epoch 4/20\n",
      " 99/100 [============================>.] - ETA: 5s - loss: 0.0164 \n",
      "Epoch 00004: val_loss improved from 0.06108 to 0.05863, saving model to PHM.keras\n",
      "100/100 [==============================] - 714s 7s/step - loss: 0.0163 - val_loss: 0.0586\n",
      "Epoch 5/20\n",
      " 99/100 [============================>.] - ETA: 5s - loss: 0.0180 \n",
      "Epoch 00005: val_loss improved from 0.05863 to 0.05337, saving model to PHM.keras\n",
      "100/100 [==============================] - 698s 7s/step - loss: 0.0178 - val_loss: 0.0534\n",
      "Epoch 6/20\n",
      " 99/100 [============================>.] - ETA: 5s - loss: 0.0145 \n",
      "Epoch 00006: val_loss improved from 0.05337 to 0.04713, saving model to PHM.keras\n",
      "100/100 [==============================] - 693s 7s/step - loss: 0.0145 - val_loss: 0.0471\n",
      "Epoch 7/20\n",
      " 99/100 [============================>.] - ETA: 5s - loss: 0.0112 \n",
      "Epoch 00007: val_loss did not improve from 0.04713\n",
      "\n",
      "Epoch 00007: ReduceLROnPlateau reducing learning rate to 0.00010000000474974513.\n",
      "100/100 [==============================] - 677s 7s/step - loss: 0.0114 - val_loss: 0.0583\n",
      "Epoch 8/20\n",
      " 99/100 [============================>.] - ETA: 5s - loss: 0.0144 \n",
      "Epoch 00008: val_loss improved from 0.04713 to 0.04659, saving model to PHM.keras\n",
      "100/100 [==============================] - 683s 7s/step - loss: 0.0144 - val_loss: 0.0466\n",
      "Epoch 9/20\n",
      " 99/100 [============================>.] - ETA: 5s - loss: 0.0129 \n",
      "Epoch 00009: val_loss improved from 0.04659 to 0.04414, saving model to PHM.keras\n",
      "100/100 [==============================] - 679s 7s/step - loss: 0.0128 - val_loss: 0.0441\n",
      "Epoch 10/20\n",
      " 99/100 [============================>.] - ETA: 5s - loss: 0.0116 \n",
      "Epoch 00010: val_loss improved from 0.04414 to 0.03923, saving model to PHM.keras\n",
      "100/100 [==============================] - 692s 7s/step - loss: 0.0115 - val_loss: 0.0392\n",
      "Epoch 11/20\n",
      " 99/100 [============================>.] - ETA: 5s - loss: 0.0129 \n",
      "Epoch 00011: val_loss improved from 0.03923 to 0.03216, saving model to PHM.keras\n",
      "100/100 [==============================] - 685s 7s/step - loss: 0.0128 - val_loss: 0.0322\n",
      "Epoch 12/20\n",
      " 99/100 [============================>.] - ETA: 5s - loss: 0.0085 \n",
      "Epoch 00012: val_loss did not improve from 0.03216\n",
      "\n",
      "Epoch 00012: ReduceLROnPlateau reducing learning rate to 0.0001.\n",
      "100/100 [==============================] - 679s 7s/step - loss: 0.0085 - val_loss: 0.0417\n",
      "Epoch 13/20\n",
      " 99/100 [============================>.] - ETA: 5s - loss: 0.0148 \n",
      "Epoch 00013: val_loss improved from 0.03216 to 0.02545, saving model to PHM.keras\n",
      "100/100 [==============================] - 677s 7s/step - loss: 0.0151 - val_loss: 0.0254\n",
      "Epoch 14/20\n",
      " 99/100 [============================>.] - ETA: 5s - loss: 0.0105 \n",
      "Epoch 00014: val_loss improved from 0.02545 to 0.02354, saving model to PHM.keras\n",
      "100/100 [==============================] - 678s 7s/step - loss: 0.0104 - val_loss: 0.0235\n",
      "Epoch 15/20\n",
      " 99/100 [============================>.] - ETA: 5s - loss: 0.0115 \n",
      "Epoch 00015: val_loss did not improve from 0.02354\n",
      "100/100 [==============================] - 676s 7s/step - loss: 0.0115 - val_loss: 0.0265\n",
      "Epoch 16/20\n",
      " 99/100 [============================>.] - ETA: 5s - loss: 0.0100 \n",
      "Epoch 00016: val_loss did not improve from 0.02354\n",
      "100/100 [==============================] - 672s 7s/step - loss: 0.0100 - val_loss: 0.0311\n",
      "Epoch 17/20\n",
      " 99/100 [============================>.] - ETA: 5s - loss: 0.0094 \n",
      "Epoch 00017: val_loss did not improve from 0.02354\n",
      "100/100 [==============================] - 677s 7s/step - loss: 0.0094 - val_loss: 0.0406\n",
      "Epoch 18/20\n",
      " 99/100 [============================>.] - ETA: 5s - loss: 0.0115 \n",
      "Epoch 00018: val_loss did not improve from 0.02354\n",
      "100/100 [==============================] - 679s 7s/step - loss: 0.0115 - val_loss: 0.0354\n",
      "Epoch 19/20\n",
      " 99/100 [============================>.] - ETA: 5s - loss: 0.0099 \n",
      "Epoch 00019: val_loss did not improve from 0.02354\n",
      "100/100 [==============================] - 675s 7s/step - loss: 0.0098 - val_loss: 0.0444\n",
      "Epoch 00019: early stopping\n",
      "Wall time: 3h 39min 57s\n"
     ]
    },
    {
     "data": {
      "text/plain": [
       "<tensorflow.python.keras.callbacks.History at 0x1cf41674f08>"
      ]
     },
     "execution_count": 70,
     "metadata": {},
     "output_type": "execute_result"
    }
   ],
   "source": [
    "%%time\n",
    "model.fit_generator(generator=generator,\n",
    "                    epochs=20,\n",
    "                    steps_per_epoch=100,\n",
    "                    validation_data=validation_data,\n",
    "                    callbacks=callbacks)"
   ]
  },
  {
   "cell_type": "raw",
   "metadata": {
    "jupyter": {
     "outputs_hidden": true
    }
   },
   "source": [
    "%%time\n",
    "model.fit(x_train, y_train,\n",
    "                    epochs=20,\n",
    "                    batch_size=16,\n",
    "#                    steps_per_epoch=100,\n",
    "                    validation_data=validation_data,\n",
    "                    callbacks=callbacks)"
   ]
  },
  {
   "cell_type": "code",
   "execution_count": 71,
   "metadata": {},
   "outputs": [],
   "source": [
    "model.save(\"model1layer.h5\")"
   ]
  },
  {
   "cell_type": "code",
   "execution_count": null,
   "metadata": {},
   "outputs": [],
   "source": []
  },
  {
   "cell_type": "markdown",
   "metadata": {},
   "source": [
    "should include the time column?\n",
    "\n",
    "Scale before or after transforming\n",
    "\n",
    "which columns to scale?\n",
    "\n",
    "scaling method"
   ]
  }
 ],
 "metadata": {
  "kernelspec": {
   "display_name": "Python 3",
   "language": "python",
   "name": "python3"
  },
  "language_info": {
   "codemirror_mode": {
    "name": "ipython",
    "version": 3
   },
   "file_extension": ".py",
   "mimetype": "text/x-python",
   "name": "python",
   "nbconvert_exporter": "python",
   "pygments_lexer": "ipython3",
   "version": "3.7.4"
  }
 },
 "nbformat": 4,
 "nbformat_minor": 4
}
